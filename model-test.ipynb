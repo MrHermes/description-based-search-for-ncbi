{
 "cells": [
  {
   "cell_type": "code",
   "execution_count": 1,
   "metadata": {},
   "outputs": [
    {
     "name": "stderr",
     "output_type": "stream",
     "text": [
      "c:\\Users\\ASUS\\AppData\\Local\\Programs\\Python\\Python311\\Lib\\site-packages\\tqdm\\auto.py:21: TqdmWarning: IProgress not found. Please update jupyter and ipywidgets. See https://ipywidgets.readthedocs.io/en/stable/user_install.html\n",
      "  from .autonotebook import tqdm as notebook_tqdm\n"
     ]
    }
   ],
   "source": [
    "import  pandas as pd\n",
    "from sentence_transformers import SentenceTransformer\n",
    "import  faiss\n",
    "import numpy as np\n",
    "import os"
   ]
  },
  {
   "cell_type": "code",
   "execution_count": 2,
   "metadata": {},
   "outputs": [],
   "source": [
    "READY_DATA_PATH = os.path.join(\"data\", \"ready\")"
   ]
  },
  {
   "cell_type": "code",
   "execution_count": 3,
   "metadata": {},
   "outputs": [],
   "source": [
    "data = pd.read_csv(os.path.join(READY_DATA_PATH, \"data_spermatophyte.csv\"))\n",
    "model = SentenceTransformer('model/')\n",
    "model2 = SentenceTransformer('model2/')\n",
    "index = faiss.read_index('spermatophyte.index')\n",
    "index2 = faiss.read_index('spermatophyte2.index')"
   ]
  },
  {
   "cell_type": "code",
   "execution_count": 4,
   "metadata": {},
   "outputs": [],
   "source": [
    "# define function to return spermatophyte dictionary based query\n",
    "\n",
    "def fetch_spermatophyte(dataframe_idx):\n",
    "    info = data.iloc[dataframe_idx]\n",
    "    meta = dict()\n",
    "    meta['organism_name'] = info['organism_name']\n",
    "    return meta\n",
    "    \n",
    "def search(query, top_k, index, model):\n",
    "    query_vector = model.encode([query])\n",
    "    top_k = index.search(query_vector, top_k)\n",
    "    result_id = top_k[1].tolist()[0]\n",
    "    result_id = list(np.unique(result_id))\n",
    "    results =  [fetch_spermatophyte(idx) for idx in result_id]\n",
    "    return results\n",
    "\n",
    "def search2(query, top_k, index, model):\n",
    "    query_vector = model2.encode([query])\n",
    "    top_k = index.search(query_vector, top_k)\n",
    "    result_id = top_k[1].tolist()[0]\n",
    "    result_id = list(np.unique(result_id))\n",
    "    results2 =  [fetch_spermatophyte(idx) for idx in result_id]\n",
    "    return results2"
   ]
  },
  {
   "cell_type": "code",
   "execution_count": 8,
   "metadata": {},
   "outputs": [
    {
     "name": "stdout",
     "output_type": "stream",
     "text": [
      "Model 1 :\n",
      "\t {'organism_name': 'Secale cereale'}\n",
      "\t {'organism_name': 'Zea mays'}\n",
      "\t {'organism_name': 'Triticum aestivum'}\n",
      "\t {'organism_name': 'Hordeum vulgare subsp. vulgare'}\n",
      "\t {'organism_name': 'Linum bienne'}\n",
      "Model 2 :\n",
      "\t {'organism_name': 'Avena sativa'}\n",
      "\t {'organism_name': 'Zea mays'}\n",
      "\t {'organism_name': 'Hordeum vulgare subsp. vulgare'}\n",
      "\t {'organism_name': 'Sorghum bicolor'}\n",
      "\t {'organism_name': 'Panicum miliaceum'}\n"
     ]
    }
   ],
   "source": [
    "query=\"cereal grain\"\n",
    "results=search(query, top_k=5, index=index, model=model)\n",
    "results2=search(query, top_k=5, index=index2, model=model)\n",
    "\n",
    "print('Model 1 :')\n",
    "for result in results:\n",
    "    print('\\t',result)\n",
    "print('Model 2 :')\n",
    "for result2 in results2:\n",
    "    print('\\t',result2)"
   ]
  },
  {
   "cell_type": "code",
   "execution_count": null,
   "metadata": {},
   "outputs": [],
   "source": []
  }
 ],
 "metadata": {
  "kernelspec": {
   "display_name": "Python 3",
   "language": "python",
   "name": "python3"
  },
  "language_info": {
   "codemirror_mode": {
    "name": "ipython",
    "version": 3
   },
   "file_extension": ".py",
   "mimetype": "text/x-python",
   "name": "python",
   "nbconvert_exporter": "python",
   "pygments_lexer": "ipython3",
   "version": "3.11.0"
  }
 },
 "nbformat": 4,
 "nbformat_minor": 2
}
