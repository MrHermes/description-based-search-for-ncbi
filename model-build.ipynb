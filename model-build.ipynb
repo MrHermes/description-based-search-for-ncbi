{
 "cells": [
  {
   "cell_type": "code",
   "execution_count": 1,
   "metadata": {},
   "outputs": [
    {
     "name": "stderr",
     "output_type": "stream",
     "text": [
      "c:\\Users\\ASUS\\AppData\\Local\\Programs\\Python\\Python311\\Lib\\site-packages\\tqdm\\auto.py:21: TqdmWarning: IProgress not found. Please update jupyter and ipywidgets. See https://ipywidgets.readthedocs.io/en/stable/user_install.html\n",
      "  from .autonotebook import tqdm as notebook_tqdm\n"
     ]
    }
   ],
   "source": [
    "import pandas as pd\n",
    "import numpy as np\n",
    "from sentence_transformers import SentenceTransformer\n",
    "import faiss\n",
    "import time\n",
    "import os"
   ]
  },
  {
   "cell_type": "code",
   "execution_count": 2,
   "metadata": {},
   "outputs": [],
   "source": [
    "\n",
    "READY_DATA_PATH = os.path.join(\"data\", \"ready\")"
   ]
  },
  {
   "cell_type": "code",
   "execution_count": 3,
   "metadata": {},
   "outputs": [],
   "source": [
    "data = pd.read_csv(os.path.join(READY_DATA_PATH, \"data_spermatophyte.csv\"))"
   ]
  },
  {
   "cell_type": "code",
   "execution_count": 4,
   "metadata": {},
   "outputs": [
    {
     "data": {
      "text/html": [
       "<div>\n",
       "<style scoped>\n",
       "    .dataframe tbody tr th:only-of-type {\n",
       "        vertical-align: middle;\n",
       "    }\n",
       "\n",
       "    .dataframe tbody tr th {\n",
       "        vertical-align: top;\n",
       "    }\n",
       "\n",
       "    .dataframe thead th {\n",
       "        text-align: right;\n",
       "    }\n",
       "</style>\n",
       "<table border=\"1\" class=\"dataframe\">\n",
       "  <thead>\n",
       "    <tr style=\"text-align: right;\">\n",
       "      <th></th>\n",
       "      <th>organism_name</th>\n",
       "      <th>description</th>\n",
       "    </tr>\n",
       "  </thead>\n",
       "  <tbody>\n",
       "    <tr>\n",
       "      <th>0</th>\n",
       "      <td>Arabidopsis thaliana</td>\n",
       "      <td>A small, flowering plant widely used in plant ...</td>\n",
       "    </tr>\n",
       "    <tr>\n",
       "      <th>1</th>\n",
       "      <td>Vitis vinifera</td>\n",
       "      <td>Commonly known as the grapevine, it is cultiva...</td>\n",
       "    </tr>\n",
       "    <tr>\n",
       "      <th>2</th>\n",
       "      <td>Citrus sinensis</td>\n",
       "      <td>Sweet orange is a citrus fruit tree known for ...</td>\n",
       "    </tr>\n",
       "    <tr>\n",
       "      <th>3</th>\n",
       "      <td>Litchi chinensis</td>\n",
       "      <td>Lychee is a tropical fruit tree native to Chin...</td>\n",
       "    </tr>\n",
       "    <tr>\n",
       "      <th>4</th>\n",
       "      <td>Jasminum sambac</td>\n",
       "      <td>Arabian jasmine is an aromatic flowering plant...</td>\n",
       "    </tr>\n",
       "    <tr>\n",
       "      <th>...</th>\n",
       "      <td>...</td>\n",
       "      <td>...</td>\n",
       "    </tr>\n",
       "    <tr>\n",
       "      <th>1505</th>\n",
       "      <td>Larix gmelinii</td>\n",
       "      <td>Larix gmelinii is another species of larch, kn...</td>\n",
       "    </tr>\n",
       "    <tr>\n",
       "      <th>1506</th>\n",
       "      <td>Penstemon dissectus</td>\n",
       "      <td>Penstemon dissectus is a species of beardtongu...</td>\n",
       "    </tr>\n",
       "    <tr>\n",
       "      <th>1507</th>\n",
       "      <td>Penstemon fruticosus</td>\n",
       "      <td>Penstemon fruticosus is another species of bea...</td>\n",
       "    </tr>\n",
       "    <tr>\n",
       "      <th>1508</th>\n",
       "      <td>Penstemon cyananthus</td>\n",
       "      <td>Penstemon cyananthus is a species of beardtong...</td>\n",
       "    </tr>\n",
       "    <tr>\n",
       "      <th>1509</th>\n",
       "      <td>Larix cajanderi</td>\n",
       "      <td>Larix cajanderi is another species of larch, c...</td>\n",
       "    </tr>\n",
       "  </tbody>\n",
       "</table>\n",
       "<p>1510 rows × 2 columns</p>\n",
       "</div>"
      ],
      "text/plain": [
       "             organism_name                                        description\n",
       "0     Arabidopsis thaliana  A small, flowering plant widely used in plant ...\n",
       "1           Vitis vinifera  Commonly known as the grapevine, it is cultiva...\n",
       "2          Citrus sinensis  Sweet orange is a citrus fruit tree known for ...\n",
       "3         Litchi chinensis  Lychee is a tropical fruit tree native to Chin...\n",
       "4          Jasminum sambac  Arabian jasmine is an aromatic flowering plant...\n",
       "...                    ...                                                ...\n",
       "1505        Larix gmelinii  Larix gmelinii is another species of larch, kn...\n",
       "1506   Penstemon dissectus  Penstemon dissectus is a species of beardtongu...\n",
       "1507  Penstemon fruticosus  Penstemon fruticosus is another species of bea...\n",
       "1508  Penstemon cyananthus  Penstemon cyananthus is a species of beardtong...\n",
       "1509       Larix cajanderi  Larix cajanderi is another species of larch, c...\n",
       "\n",
       "[1510 rows x 2 columns]"
      ]
     },
     "execution_count": 4,
     "metadata": {},
     "output_type": "execute_result"
    }
   ],
   "source": [
    "data"
   ]
  },
  {
   "cell_type": "code",
   "execution_count": 6,
   "metadata": {},
   "outputs": [
    {
     "name": "stderr",
     "output_type": "stream",
     "text": [
      "vocab.txt: 100%|██████████| 232k/232k [00:00<00:00, 416kB/s]\n",
      "modules.json: 100%|██████████| 349/349 [00:00<?, ?B/s] \n"
     ]
    }
   ],
   "source": [
    "model = SentenceTransformer('all-mpnet-base-v2')"
   ]
  },
  {
   "cell_type": "code",
   "execution_count": 7,
   "metadata": {},
   "outputs": [
    {
     "name": "stderr",
     "output_type": "stream",
     "text": [
      ".gitattributes: 100%|██████████| 737/737 [00:00<00:00, 18.9kB/s]\n",
      "1_Pooling/config.json: 100%|██████████| 190/190 [00:00<00:00, 189kB/s]\n",
      "README.md: 100%|██████████| 8.66k/8.66k [00:00<00:00, 4.33MB/s]\n",
      "config.json: 100%|██████████| 571/571 [00:00<?, ?B/s] \n",
      "config_sentence_transformers.json: 100%|██████████| 116/116 [00:00<?, ?B/s] \n",
      "data_config.json: 100%|██████████| 25.5k/25.5k [00:00<00:00, 25.4MB/s]\n",
      "pytorch_model.bin: 100%|██████████| 438M/438M [03:41<00:00, 1.98MB/s] \n",
      "sentence_bert_config.json: 100%|██████████| 53.0/53.0 [00:00<?, ?B/s]\n",
      "special_tokens_map.json: 100%|██████████| 239/239 [00:00<?, ?B/s] \n",
      "tokenizer.json: 100%|██████████| 466k/466k [00:00<00:00, 570kB/s]\n",
      "tokenizer_config.json: 100%|██████████| 363/363 [00:00<?, ?B/s] \n",
      "train_script.py: 100%|██████████| 13.9k/13.9k [00:00<00:00, 13.8MB/s]\n",
      "vocab.txt: 100%|██████████| 232k/232k [00:00<00:00, 448kB/s]\n",
      "modules.json: 100%|██████████| 229/229 [00:00<?, ?B/s] \n"
     ]
    }
   ],
   "source": [
    "model2 = SentenceTransformer('multi-qa-mpnet-base-dot-v1')"
   ]
  },
  {
   "cell_type": "code",
   "execution_count": 12,
   "metadata": {},
   "outputs": [
    {
     "name": "stderr",
     "output_type": "stream",
     "text": [
      ".gitattributes: 100%|██████████| 737/737 [00:00<00:00, 53.6kB/s]\n",
      "1_Pooling/config.json: 100%|██████████| 190/190 [00:00<00:00, 189kB/s]\n",
      "README.md: 100%|██████████| 10.3k/10.3k [00:00<00:00, 207kB/s]\n",
      "config.json: 100%|██████████| 653/653 [00:00<?, ?B/s] \n",
      "config_sentence_transformers.json: 100%|██████████| 116/116 [00:00<?, ?B/s] \n",
      "data_config.json: 100%|██████████| 15.7k/15.7k [00:00<00:00, 424kB/s]\n",
      "merges.txt: 100%|██████████| 456k/456k [00:00<00:00, 552kB/s]\n",
      "pytorch_model.bin: 100%|██████████| 329M/329M [03:09<00:00, 1.73MB/s] \n",
      "sentence_bert_config.json: 100%|██████████| 53.0/53.0 [00:00<?, ?B/s]\n",
      "special_tokens_map.json: 100%|██████████| 239/239 [00:00<00:00, 239kB/s]\n",
      "tokenizer.json: 100%|██████████| 1.36M/1.36M [00:01<00:00, 1.26MB/s]\n",
      "tokenizer_config.json: 100%|██████████| 333/333 [00:00<?, ?B/s] \n",
      "train_script.py: 100%|██████████| 13.1k/13.1k [00:00<00:00, 13.1MB/s]\n",
      "vocab.json: 100%|██████████| 798k/798k [00:01<00:00, 753kB/s]\n",
      "modules.json: 100%|██████████| 349/349 [00:00<?, ?B/s] \n"
     ]
    }
   ],
   "source": [
    "model3 = SentenceTransformer('all-distilroberta-v1')"
   ]
  },
  {
   "cell_type": "code",
   "execution_count": 8,
   "metadata": {},
   "outputs": [],
   "source": [
    "encoded_data = model.encode(data.description.tolist())\n",
    "encoded_data = np.asarray(encoded_data.astype('float32'))\n",
    "index = faiss.IndexIDMap(faiss.IndexFlatIP(768))\n",
    "index.add_with_ids(encoded_data, np.array(range(0, len(data))))\n",
    "faiss.write_index(index, 'spermatophyte.index')"
   ]
  },
  {
   "cell_type": "code",
   "execution_count": 9,
   "metadata": {},
   "outputs": [],
   "source": [
    "encoded_data2 = model2.encode(data.description.tolist())\n",
    "encoded_data2 = np.asarray(encoded_data2.astype('float32'))\n",
    "index2 = faiss.IndexIDMap(faiss.IndexFlatIP(768))\n",
    "index2.add_with_ids(encoded_data2, np.array(range(0, len(data))))\n",
    "faiss.write_index(index2, 'spermatophyte2.index')"
   ]
  },
  {
   "cell_type": "code",
   "execution_count": 13,
   "metadata": {},
   "outputs": [],
   "source": [
    "encoded_data3 = model3.encode(data.description.tolist())\n",
    "encoded_data3 = np.asarray(encoded_data3.astype('float32'))\n",
    "index3 = faiss.IndexIDMap(faiss.IndexFlatIP(768))\n",
    "index3.add_with_ids(encoded_data3, np.array(range(0, len(data))))\n",
    "faiss.write_index(index3, 'spermatophyte3.index')"
   ]
  },
  {
   "cell_type": "code",
   "execution_count": 14,
   "metadata": {},
   "outputs": [],
   "source": [
    "model.save('./model')\n",
    "model2.save('./model2')\n",
    "model3.save('./model3')"
   ]
  },
  {
   "cell_type": "code",
   "execution_count": 15,
   "metadata": {},
   "outputs": [],
   "source": [
    "# Load\n",
    "data = pd.read_csv(os.path.join(READY_DATA_PATH, \"data_spermatophyte.csv\"))\n",
    "model = SentenceTransformer('model/')\n",
    "model2 = SentenceTransformer('model2/')\n",
    "model3 = SentenceTransformer('model3/')\n",
    "index = faiss.read_index('spermatophyte.index')\n",
    "index2 = faiss.read_index('spermatophyte2.index')\n",
    "index3 = faiss.read_index('spermatophyte3.index')"
   ]
  },
  {
   "cell_type": "code",
   "execution_count": null,
   "metadata": {},
   "outputs": [],
   "source": []
  }
 ],
 "metadata": {
  "kernelspec": {
   "display_name": "Python 3",
   "language": "python",
   "name": "python3"
  },
  "language_info": {
   "codemirror_mode": {
    "name": "ipython",
    "version": 3
   },
   "file_extension": ".py",
   "mimetype": "text/x-python",
   "name": "python",
   "nbconvert_exporter": "python",
   "pygments_lexer": "ipython3",
   "version": "3.11.0"
  }
 },
 "nbformat": 4,
 "nbformat_minor": 2
}
