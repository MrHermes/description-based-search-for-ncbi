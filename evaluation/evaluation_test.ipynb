{
 "cells": [
  {
   "cell_type": "code",
   "execution_count": 1,
   "metadata": {},
   "outputs": [],
   "source": [
    "from gradio_client import Client\n",
    "import pandas as pd"
   ]
  },
  {
   "cell_type": "code",
   "execution_count": 3,
   "metadata": {},
   "outputs": [
    {
     "name": "stdout",
     "output_type": "stream",
     "text": [
      "A species of chrysanthemum, known for its ornamental flowers.\n"
     ]
    }
   ],
   "source": [
    "array = pd.read_json(\"evaluation.json\")\n",
    "array = array.to_numpy()\n",
    "print(array[0][1])"
   ]
  },
  {
   "cell_type": "code",
   "execution_count": 4,
   "metadata": {},
   "outputs": [
    {
     "name": "stdout",
     "output_type": "stream",
     "text": [
      "Loaded as API: https://mrhermes-description-based-search.hf.space/--replicas/cwph8/ ✔\n",
      "Correct\n",
      "Incorrect\n"
     ]
    }
   ],
   "source": [
    "client = Client(\"https://mrhermes-description-based-search.hf.space/--replicas/cwph8/\")\n",
    "count = 0\n",
    "for i in range(0, 20):\n",
    "    result = client.predict(\n",
    "        array[i][1],\n",
    "        3,\n",
    "        api_name=\"/predict\"\n",
    "    )\n",
    "    arrayResult = result.split(\",\")\n",
    "    if array[i][0] in arrayResult:\n",
    "        count += 1\n",
    "        print(\"Correct\")\n",
    "    else:\n",
    "        print(\"Incorrect\")\n",
    "\n",
    "print('result : ' + str(count/20 * 100) + '%')"
   ]
  }
 ],
 "metadata": {
  "kernelspec": {
   "display_name": "Python 3.10.0 64-bit",
   "language": "python",
   "name": "python3"
  },
  "language_info": {
   "codemirror_mode": {
    "name": "ipython",
    "version": 3
   },
   "file_extension": ".py",
   "mimetype": "text/x-python",
   "name": "python",
   "nbconvert_exporter": "python",
   "pygments_lexer": "ipython3",
   "version": "3.10.0"
  },
  "orig_nbformat": 4,
  "vscode": {
   "interpreter": {
    "hash": "369f2c481f4da34e4445cda3fffd2e751bd1c4d706f27375911949ba6bb62e1c"
   }
  }
 },
 "nbformat": 4,
 "nbformat_minor": 2
}
